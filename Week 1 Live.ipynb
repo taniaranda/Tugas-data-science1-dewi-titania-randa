{
 "cells": [
  {
   "cell_type": "markdown",
   "id": "3f4b663c",
   "metadata": {},
   "source": [
    "# Week 1 Review Exercises\n"
   ]
  },
  {
   "cell_type": "markdown",
   "id": "ada58c46",
   "metadata": {},
   "source": [
    "Q1. Data Types\n",
    "\n",
    "What is the data type of the variable `pop`?"
   ]
  },
  {
   "cell_type": "code",
   "execution_count": 1,
   "id": "563c66fd",
   "metadata": {},
   "outputs": [],
   "source": [
    "pop = 5.8\n"
   ]
  },
  {
   "cell_type": "code",
   "execution_count": 2,
   "id": "caf77385",
   "metadata": {},
   "outputs": [
    {
     "data": {
      "text/plain": [
       "float"
      ]
     },
     "execution_count": 2,
     "metadata": {},
     "output_type": "execute_result"
    }
   ],
   "source": [
    "# use a suitable function to check your answer\n",
    "type(pop)"
   ]
  },
  {
   "cell_type": "markdown",
   "id": "b19b8600",
   "metadata": {},
   "source": [
    "Q2. Which of the following is a valid variable name of of population below 15 years old?\n"
   ]
  },
  {
   "cell_type": "code",
   "execution_count": 4,
   "id": "fa3e5e24",
   "metadata": {},
   "outputs": [
    {
     "ename": "SyntaxError",
     "evalue": "invalid decimal literal (557753653.py, line 2)",
     "output_type": "error",
     "traceback": [
      "\u001b[1;36m  Cell \u001b[1;32mIn[4], line 2\u001b[1;36m\u001b[0m\n\u001b[1;33m    15_years_and_below = 12.33\u001b[0m\n\u001b[1;37m      ^\u001b[0m\n\u001b[1;31mSyntaxError\u001b[0m\u001b[1;31m:\u001b[0m invalid decimal literal\n"
     ]
    }
   ],
   "source": [
    "# which line won't give an error? Comment out the ones that do!\n",
    "15_years_and_below = 12.33 \n",
    "%_pop_15_below = 12.33\n",
    "_15&below_pop = 12.33\n",
    "_15_below_pop = 12.33\n",
    "\n",
    "#salah satu line yang tidak memberikan error adalah _15_below_pop, sementara yang lain memberikan error karena,\n",
    "#15_years_and_below - Nama variabel tidak bisa dimulai dengan angka\n",
    "#%_pop_15_below - Nama variabel tidak dapat dimulai dengan tanda persen (%). \n",
    "#_15&below_pop - Nama variabel ini mengandung karakter khusus \"&\""
   ]
  },
  {
   "cell_type": "markdown",
   "id": "6227288b",
   "metadata": {},
   "source": [
    "Q3. What will be stored in `result`?"
   ]
  },
  {
   "cell_type": "code",
   "execution_count": 7,
   "id": "5e4cfdfd",
   "metadata": {},
   "outputs": [],
   "source": [
    "result = 3 + 4 ** 2 - (5 // 2)\n",
    "\n",
    "#3 + 4**2 - (5 // 2)\n",
    "#yang diselesaikan pertama adalah  4**2(atau 4 pangkat 2) = 16 dan pembagian bulat 5//2 = 2\n",
    "#jadi 3 + 16 - 2, maka kita jumlahkan semua menjadi 17\n",
    "#maka result menyimpan variable 17"
   ]
  },
  {
   "cell_type": "markdown",
   "id": "4b2b1ba6",
   "metadata": {},
   "source": [
    "Q4. If Singapore has an estimated population of 5.85 million and the land area is 700 square kilometers, what is the population density (number of people per KM)? \n"
   ]
  },
  {
   "cell_type": "code",
   "execution_count": 8,
   "id": "3b3dd8d9",
   "metadata": {},
   "outputs": [
    {
     "name": "stdout",
     "output_type": "stream",
     "text": [
      "the number of people per km are  8357.142857142857\n"
     ]
    }
   ],
   "source": [
    "# Estimated total Population of Singapore, in millions\n",
    "total_pop_millions = 5.85\n",
    "\n",
    "# Total land area, in KM\n",
    "land_area = 700\n",
    "\n",
    "# How many people are there per KM?\n",
    "people_perKM= total_pop_millions *1000000 / land_area\n",
    "\n",
    "print(\"the number of people per km are \", people_perKM)"
   ]
  },
  {
   "cell_type": "markdown",
   "id": "8a8b4f48",
   "metadata": {},
   "source": [
    "Q5. Write a function called `pop_density()` that receives two arguments:\n",
    "1. the population, recorded in millions, `population_mil`\n",
    "2. the land area, in square kilometres, `land_area_sqkm`\n",
    "\n",
    "The function should calculate and return the population density. \n"
   ]
  },
  {
   "cell_type": "code",
   "execution_count": 25,
   "id": "cec3ad43",
   "metadata": {},
   "outputs": [],
   "source": [
    "# Write the function here\n",
    "def pop_density(population_mil,land_area_sqkm):\n",
    "    population_density = population_mil * 1_000_000 / land_area_sqkm\n",
    "    return population_density\n"
   ]
  },
  {
   "cell_type": "markdown",
   "id": "9c7711c8",
   "metadata": {},
   "source": [
    "Q6. Call the function you have written to calculate and display the population density of Hong Kong: 7.50 million people in a land area of 1050 km squared \n"
   ]
  },
  {
   "cell_type": "code",
   "execution_count": 26,
   "id": "54676ea5",
   "metadata": {},
   "outputs": [
    {
     "name": "stdout",
     "output_type": "stream",
     "text": [
      "population density hongkong adalah  7142.857142857143\n"
     ]
    }
   ],
   "source": [
    "# Call the function \n",
    "population_hongkong = 7.50\n",
    "land_area_sqkm_hongkong = 1050\n",
    "\n",
    "population_density_hongkong = pop_density(population_hongkong,land_area_sqkm_hongkong)\n",
    "\n",
    "print(\"population density hongkong adalah \", population_density_hongkong)"
   ]
  },
  {
   "cell_type": "markdown",
   "id": "43cbdd91",
   "metadata": {},
   "source": [
    "Q7. Using the `pop_density()` function, calculate the population density of Singapore and then use comparison operators to compare the population densities of Singapore and Hong Kong.\n",
    "\n",
    "Singapore's population: 5.85 million\n",
    "Singapore's land area: 700 sq km\n",
    "\n",
    "(Data From [Worldometers](http://worldometers.info))\n"
   ]
  },
  {
   "cell_type": "code",
   "execution_count": 20,
   "id": "626d47c8",
   "metadata": {},
   "outputs": [
    {
     "name": "stdout",
     "output_type": "stream",
     "text": [
      "Kepadatan penduduk di Singapura lebih tinggi daripada di Hong Kong.\n"
     ]
    }
   ],
   "source": [
    "# use the function\n",
    "population_singapore = 5.85\n",
    "land_area_sqkm_singapore = 700\n",
    "\n",
    "population_density_singapore = pop_density(population_singapore,land_area_sqkm_singapore) \n",
    "\n",
    "# compare hk vs sg population density \n",
    "if population_density_singapore > population_density_hongkong:\n",
    "    print(\"Kepadatan penduduk di Singapura lebih tinggi daripada di Hong Kong.\")\n",
    "elif population_density_singapore < population_density_hongkong:\n",
    "    print(\"Kepadatan penduduk di Singapura lebih rendah daripada di Hong Kong.\")\n",
    "else:\n",
    "    print(\"Kepadatan penduduk di Singapura sama dengan di Hong Kong.\")\n"
   ]
  },
  {
   "cell_type": "markdown",
   "id": "cc1768c5",
   "metadata": {},
   "source": [
    "Q8. Let's add another area to compare: Macao's population is 0.65 million in a land area of 30 sq km. Find out whether Singapore's population density is higher than BOTH Hong Kong and Macao."
   ]
  },
  {
   "cell_type": "code",
   "execution_count": 28,
   "id": "55aeec5c",
   "metadata": {},
   "outputs": [
    {
     "name": "stdout",
     "output_type": "stream",
     "text": [
      "Kepadatan penduduk di Singapura tidak lebih tinggi daripada di Hong Kong dan Macao.\n"
     ]
    }
   ],
   "source": [
    "# Calculate Macao's density (use the function!)\n",
    "population_macao = 0.65\n",
    "land_area_sqkm_macao = 30\n",
    "\n",
    "population_density_macao = pop_density(population_macao,land_area_sqkm_macao)\n",
    "# Singapore's population density is higher than both Hong Kong AND Macao\n",
    "if population_density_singapore > population_density_hongkong and population_density_singapore  > population_density_macao:\n",
    "    print(\"Kepadatan penduduk di Singapura lebih tinggi daripada di Hong Kong dan Macao.\")\n",
    "else:\n",
    "    print(\"Kepadatan penduduk di Singapura tidak lebih tinggi daripada di Hong Kong dan Macao.\")"
   ]
  },
  {
   "cell_type": "markdown",
   "id": "66b284ff",
   "metadata": {},
   "source": [
    "Q9. Write a function called compare_density() that receives two arguments representing the population densities of two areas. The function will compare the two values and print one of the following strings:\n",
    "- “Area 1 has higher density”\n",
    "- “Area 2 has higher density”\n",
    "- “Both areas have the same density”"
   ]
  },
  {
   "cell_type": "code",
   "execution_count": 29,
   "id": "63351d63",
   "metadata": {},
   "outputs": [],
   "source": [
    "# Write the function\n",
    "def compare_density(padat1, padat2):\n",
    "    if padat1 > padat2:\n",
    "        print(\"Area 1 has higher density\")\n",
    "    elif padat1 < padat2:\n",
    "        print(\"Area 2 has higher density\")\n",
    "    else:\n",
    "        print(\"Both areas have the same density\")"
   ]
  },
  {
   "cell_type": "markdown",
   "id": "0e7c4ab1",
   "metadata": {},
   "source": [
    "Then we can test the function by passing the values of `sg_density` and `hk_density` as arguments."
   ]
  },
  {
   "cell_type": "code",
   "execution_count": 31,
   "id": "6f1a4362",
   "metadata": {},
   "outputs": [
    {
     "name": "stdout",
     "output_type": "stream",
     "text": [
      "Area 1 has higher density\n"
     ]
    }
   ],
   "source": [
    "sg_density = pop_density(5.85, 700)\n",
    "hk_density = pop_density(7.50, 1050)\n",
    "compare_density(sg_density, hk_density)"
   ]
  },
  {
   "cell_type": "markdown",
   "id": "49fae04b",
   "metadata": {},
   "source": [
    "Q10. What will be the result of the following loop?\n",
    "\n",
    "```\n",
    "for year in range(2022, 2031, 2):\n",
    "    print(year)\n",
    "```"
   ]
  },
  {
   "cell_type": "code",
   "execution_count": 32,
   "id": "48ab8047",
   "metadata": {},
   "outputs": [
    {
     "name": "stdout",
     "output_type": "stream",
     "text": [
      "2022\n",
      "2024\n",
      "2026\n",
      "2028\n",
      "2030\n"
     ]
    }
   ],
   "source": [
    "# Type in the code for the loop given above and execute to check your answer\n",
    "for year in range(2022, 2031, 2):\n",
    "    print(year)"
   ]
  },
  {
   "cell_type": "markdown",
   "id": "359280f1",
   "metadata": {},
   "source": [
    "Q.11 Write a function projected_population() that receives three arguments:\n",
    "- Current population, in millions\n",
    "- Growth rate\n",
    "- Current year\n"
   ]
  },
  {
   "cell_type": "markdown",
   "id": "43b00110",
   "metadata": {},
   "source": [
    "The function should:\n",
    "- set the projected population to the current population\n",
    "- set the projected year to the current year\n",
    "- calculate the difference between the projected population and current population\n",
    "\n",
    "while the difference is between -1 and 1:\n",
    "1. print the projected year and the projected population\n",
    "2. calculate the projected population = projected population + projected population * growth rate / 100\n",
    "3. update the projected year \n",
    "4. recalculate the difference between the projected propulation and current population"
   ]
  },
  {
   "cell_type": "code",
   "execution_count": 35,
   "id": "8e62f54e",
   "metadata": {},
   "outputs": [],
   "source": [
    "def projected_population(current_pop, growth_rate, current_year):\n",
    "    # complete the function according to the guide\n",
    "    projected_population = current_pop\n",
    "    projected_year = current_year\n",
    "\n",
    "    difference = projected_population - current_pop\n",
    "\n",
    "    while -1 < difference < 1:\n",
    "        print(f\"Projected Year: {projected_year}, Projected Population: {projected_population:.2f} million\")\n",
    "        projected_population += (projected_population * growth_rate) / 100\n",
    "        projected_year += 1\n",
    "        difference = projected_population - current_pop\n",
    "    print(f\"Final Projected Year: {projected_year}, Final Projected Population: {projected_population:.2f} million\")\n"
   ]
  },
  {
   "cell_type": "code",
   "execution_count": 36,
   "id": "35c3f670",
   "metadata": {},
   "outputs": [
    {
     "name": "stdout",
     "output_type": "stream",
     "text": [
      "Thailand's population growth\n",
      "Projected Year: 2020, Projected Population: 69.80 million\n",
      "Projected Year: 2021, Projected Population: 70.01 million\n",
      "Projected Year: 2022, Projected Population: 70.22 million\n",
      "Projected Year: 2023, Projected Population: 70.43 million\n",
      "Projected Year: 2024, Projected Population: 70.64 million\n",
      "Final Projected Year: 2025, Final Projected Population: 70.85 million\n"
     ]
    }
   ],
   "source": [
    "# testing with Thailand\n",
    "print(\"Thailand's population growth\")\n",
    "projected_population(current_pop = 69.8, growth_rate = 0.3, current_year = 2020)"
   ]
  },
  {
   "cell_type": "markdown",
   "id": "09df059d",
   "metadata": {},
   "source": [
    "Q.12 Write a function called `string_info()` which takes in a string argument and returns four values:\n",
    "- the first 3 characters\n",
    "- last 3 characters\n",
    "- the number of characters in the string\n",
    "- the string with each word capitalized"
   ]
  },
  {
   "cell_type": "code",
   "execution_count": 2,
   "id": "254d3e0c",
   "metadata": {},
   "outputs": [],
   "source": [
    "def string_info(word): \n",
    "    # complete the function\n",
    "    return word[:3], word[-3], len(word), word.title()\n",
    "    "
   ]
  },
  {
   "cell_type": "code",
   "execution_count": 3,
   "id": "5858639b",
   "metadata": {},
   "outputs": [],
   "source": [
    "#calling the function\n",
    "start, end, num, title = string_info(\"data science\")"
   ]
  },
  {
   "cell_type": "code",
   "execution_count": 4,
   "id": "f286a42c",
   "metadata": {},
   "outputs": [
    {
     "name": "stdout",
     "output_type": "stream",
     "text": [
      "('dat', 'n', 12, 'Data Science')\n"
     ]
    }
   ],
   "source": [
    "# print what's returned\n",
    "print(string_info(\"data science\"))"
   ]
  },
  {
   "cell_type": "markdown",
   "id": "f33e1677",
   "metadata": {},
   "source": [
    "# Congratulations! \n",
    "\n",
    "You have reached the end of this notebook! Hope you have been able to practice and review the fundamental concepts in Python coding and we will do more next week!"
   ]
  }
 ],
 "metadata": {
  "kernelspec": {
   "display_name": "Python 3 (ipykernel)",
   "language": "python",
   "name": "python3"
  },
  "language_info": {
   "codemirror_mode": {
    "name": "ipython",
    "version": 3
   },
   "file_extension": ".py",
   "mimetype": "text/x-python",
   "name": "python",
   "nbconvert_exporter": "python",
   "pygments_lexer": "ipython3",
   "version": "3.11.4"
  }
 },
 "nbformat": 4,
 "nbformat_minor": 5
}
